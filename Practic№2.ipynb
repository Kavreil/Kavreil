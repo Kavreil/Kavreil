{
  "nbformat": 4,
  "nbformat_minor": 0,
  "metadata": {
    "colab": {
      "provenance": [],
      "collapsed_sections": [
        "ivTZv995mT3v"
      ],
      "authorship_tag": "ABX9TyPh8ZL0C6Adt4QH0Fs2M+Uw"
    },
    "kernelspec": {
      "name": "python3",
      "display_name": "Python 3"
    },
    "language_info": {
      "name": "python"
    }
  },
  "cells": [
    {
      "cell_type": "markdown",
      "source": [
        "# **Практика**"
      ],
      "metadata": {
        "id": "ivTZv995mT3v"
      }
    },
    {
      "cell_type": "markdown",
      "source": [
        "## **Упражнение 1**\n",
        "В зоопарке цена входного билета зависит от возраста посетителя.\n",
        "\n",
        "\n",
        "\n",
        "*   Дети до двух лет допускаются бесплатно.\n",
        "*   Дети в возрасте от трех до 12 лет могут посещать зоопарк за 140.\n",
        "*   Пенсионерам старше 65 лет вход обойдется в 180, а обычный взрослый билет стоит 230.\n",
        "\n",
        "\n",
        "\n",
        "\n",
        "\n"
      ],
      "metadata": {
        "id": "L-Wgz5j8mXwj"
      }
    },
    {
      "cell_type": "code",
      "source": [
        "  price = 0\n",
        "  while True:\n",
        "    age_guest = int(input(\"Сколько вам лет? (0-выход)\"))\n",
        "    if age_guest == 0:\n",
        "      break\n",
        "    elif age_guest <= 2:\n",
        "      price += 0\n",
        "    elif age_guest <= 12:\n",
        "      price += 140\n",
        "    elif age_guest >= 65:\n",
        "      price += 180\n",
        "    else:\n",
        "      price += 230\n",
        "\n",
        "  print(\"Стоимость билета составит %d рублей\" % price)"
      ],
      "metadata": {
        "id": "fdJJtUugosB0",
        "colab": {
          "base_uri": "https://localhost:8080/"
        },
        "outputId": "a3578b04-f0a2-47fb-9018-e6550cbe98f4"
      },
      "execution_count": null,
      "outputs": [
        {
          "output_type": "stream",
          "name": "stdout",
          "text": [
            "Сколько вам лет? (0-выход)5\n",
            "Сколько вам лет? (0-выход)2\n",
            "Сколько вам лет? (0-выход)0\n",
            "Стоимость билета составит 140 рублей\n"
          ]
        }
      ]
    },
    {
      "cell_type": "markdown",
      "source": [
        "## **Упражнение 2**\n",
        "Напиши программу, которая будет запрашивать у пользователя целочисленные значения и сохранять их в виде списка. Индикатором окончания ввода значений должен служить ноль. Затем программа должна вывести на экран все введенные пользователем числа (кроме нуля) в порядке возрастания – по одному значению в строке.\n",
        "\n",
        "Используй для сортировки  метод sort."
      ],
      "metadata": {
        "id": "rEL-oVInmtaA"
      }
    },
    {
      "cell_type": "code",
      "source": [
        "  list1 = []\n",
        "\n",
        "  while True:\n",
        "    num = int(input(\"Введите целое число кроме 0 (0-выход) \"))\n",
        "    if num == 0:\n",
        "      break\n",
        "    else:\n",
        "      list1.append(num)\n",
        "\n",
        "  list1.sort()\n",
        "  print(\"Отсортированный ряд: \")\n",
        "  for num in list1:\n",
        "    print(num)"
      ],
      "metadata": {
        "id": "qTdr5HmVmSVE",
        "colab": {
          "base_uri": "https://localhost:8080/"
        },
        "outputId": "04bab329-17f8-4016-e26d-e676b6612ffa"
      },
      "execution_count": null,
      "outputs": [
        {
          "output_type": "stream",
          "name": "stdout",
          "text": [
            "Введите целое число (0-выход) 6\n",
            "Введите целое число (0-выход) 15\n",
            "Введите целое число (0-выход) 2\n",
            "Введите целое число (0-выход) 0\n",
            "Отсортированный ряд: \n",
            "2\n",
            "6\n",
            "15\n"
          ]
        }
      ]
    },
    {
      "cell_type": "markdown",
      "source": [
        "## **Упражнение 3**\n",
        "Для выигрыша главного приза необходимо, чтобы шесть номеров на лотерейном билете совпали с шестью числами, выпавшими случайным образом в диапазоне от 1 до 49 во время очередного тиража. Напиши программу, которая будет случайным образом подбирать шесть номеров для вашего билета. Убедись в том, что среди этих чисел не будет дубликатов. Выведи номера билетов на экран по возрастанию"
      ],
      "metadata": {
        "id": "jbuuiwfhm1JB"
      }
    },
    {
      "cell_type": "code",
      "execution_count": null,
      "metadata": {
        "id": "AoZsKlp4mDop",
        "colab": {
          "base_uri": "https://localhost:8080/"
        },
        "outputId": "e232f8de-5e34-4b36-908a-39a4470daeda"
      },
      "outputs": [
        {
          "output_type": "stream",
          "name": "stdout",
          "text": [
            "Номер билета 8 24 26 27 32 40 "
          ]
        }
      ],
      "source": [
        "  from random import randrange\n",
        "  ticket = []\n",
        "  for i in range(6):\n",
        "    rand = randrange(1, 50)\n",
        "    while rand in ticket:\n",
        "      rand = randrange(1, 50)\n",
        "    ticket.append(rand)\n",
        "  ticket.sort()\n",
        "  print(\"Номер билета \", end=\"\")\n",
        "  for n in ticket:\n",
        "    print(n, end=\" \")"
      ]
    },
    {
      "cell_type": "markdown",
      "source": [
        "## **Упражнение 4**\n",
        "Напиши программу, определяющую и выводящую на экран количество уникальных символов во введенной пользователем строке.\n",
        "\n",
        "Например, в строке Hello, World! содержится десять уникальных символов, а в строке zzz – один. Используй словарь для решения этой задачи."
      ],
      "metadata": {
        "id": "ztZEOZ_qm27_"
      }
    },
    {
      "cell_type": "code",
      "source": [
        "userInput = input(\"Введите строку \")\n",
        "book = {}\n",
        "for i in userInput:\n",
        "  book[i] = True\n",
        "print(\"Всего %d уникальных символов в строке %s\" % (len(book),userInput))"
      ],
      "metadata": {
        "id": "aLsgAiUrnL1I",
        "colab": {
          "base_uri": "https://localhost:8080/"
        },
        "outputId": "b18aef73-cb4b-4dcd-8e6d-2399558263ca"
      },
      "execution_count": null,
      "outputs": [
        {
          "output_type": "stream",
          "name": "stdout",
          "text": [
            "Введите строку dfgd\n",
            "Всего 3 уникальных символов в строке dfgd\n"
          ]
        }
      ]
    },
    {
      "cell_type": "markdown",
      "source": [
        "# **Домашняя работа**"
      ],
      "metadata": {
        "id": "kzcKHCJhnMV9"
      }
    },
    {
      "cell_type": "markdown",
      "source": [
        "##**Задача 1**\n",
        "**Условие.** Считается, что один год, прожитый собакой, эквивалентен семи человеческим годам. При этом зачастую не учитывается, что собаки становятся абсолютно взрослыми уже к двум годам. Таким образом, многие предпочитают каждый из первых двух лет жизни собаки приравнивать к 10,5 года человеческой жизни, а все последующие – к четырем. Напишите программу, которая будет переводить человеческий возраст в собачий с учетом указанной выше логики. Убедитесь, что программа корректно работает при пересчете возраста собаки меньше и больше двух лет"
      ],
      "metadata": {
        "id": "uGE5uYO5nQyo"
      }
    },
    {
      "cell_type": "code",
      "source": [
        "  young_dog = 10.5\n",
        "  old_dog = 4\n",
        "  age_people = int(input(\"Сколько вам лет? Давайте переведем в собачий возраст!\"))\n",
        "  if age_people <=21:\n",
        "    age_dog = age_people // young_dog\n",
        "  else:\n",
        "    age_dog = age_people // young_dog + (age_people - young_dog * 2) // 4\n",
        "  print(\"вам было бы %d лет, будь вы собакой\" % age_dog)"
      ],
      "metadata": {
        "id": "KYMklz6wnRRi",
        "colab": {
          "base_uri": "https://localhost:8080/"
        },
        "outputId": "400e86a7-b410-4697-a8ec-9ae807a218d0"
      },
      "execution_count": null,
      "outputs": [
        {
          "output_type": "stream",
          "name": "stdout",
          "text": [
            "Сколько вам лет? Давайте переведем в собачий возраст!17\n",
            "вам было бы 1 лет, будь вы собакой\n"
          ]
        }
      ]
    },
    {
      "cell_type": "markdown",
      "source": [
        "## **Задача 2.**\n",
        "\n",
        "**Условие.** Клетки на шахматной доске идентифицируются буквой и цифрой. Буква определяет положение клетки по горизонтали, а цифра – по вертикали, как показано на рисунке.\n",
        "\n",
        "![Без названия.png](data:image/png;base64,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)\n",
        "\n",
        "Ваша программа должна запрашивать у пользователя координаты клетки. Используйте условное выражение для определения того, с какой клетки – белой или черной – начинается столбец. Затем при помощи обычной арифметики необходимо определить цвет конкретной клетки. Например, если пользователь ввел a1, программа должна определить, что клетка с этими координатами черная. Если d5 – белая."
      ],
      "metadata": {
        "id": "6gDV5Zr5_TCv"
      }
    },
    {
      "cell_type": "code",
      "source": [
        "  userInput = input(\"Введите клетку в формате 'f5' \").lower()\n",
        "  data1 = userInput[0]\n",
        "  data2 = userInput[1]\n",
        "\n",
        "  row = ['1', '2', '3', '4', '5', '6', '7', '8']\n",
        "  column = ['a', 'b', 'c', 'd', 'e', 'f', 'g', 'h']\n",
        "\n",
        "  if (column.index(data1) % 2 == row.index(data2) %2):\n",
        "    print(\"Черный\")\n",
        "  else:\n",
        "    print(\"Белый\")"
      ],
      "metadata": {
        "colab": {
          "base_uri": "https://localhost:8080/"
        },
        "id": "jc7nQLXP_yaV",
        "outputId": "a3c0e3cc-2035-4444-ea6a-70a620e152ca"
      },
      "execution_count": null,
      "outputs": [
        {
          "output_type": "stream",
          "name": "stdout",
          "text": [
            "Введите клетку в формате 'f5' g2\n",
            "Белый\n"
          ]
        }
      ]
    },
    {
      "cell_type": "markdown",
      "source": [
        "## **Задача 3.**\n",
        "**Условие.** Fizz-Buzz – это известная игра, помогающая детям освоить в игровой форме правила деления. Участники садятся в круг, чтобы игра теоретически могла продолжаться бесконечно. Первый игрок говорит «Один» и передает ход тому, кто слева. Каждый следующий игрок должен мысленно прибавить к предыдущему числу единицу и произнести либо его, либо одно из ключевых слов: Fizz, если число без остатка делится на три, или Buzz, если на пять. Если соблюдаются оба этих условия, он произносит Fizz-Buzz. Игрок, не сумевший сказать правильное слово, выбывает из игры. Последний оставшийся игрок признается победителем. Разработайте программу, реализующую алгоритм игры Fizz-Buzz применительно к первым 100 числам. Каждый следующий ответ должен отображаться на новой строке."
      ],
      "metadata": {
        "id": "B1o6V8-ZMRVr"
      }
    },
    {
      "cell_type": "code",
      "source": [
        "  for i in range(1, 101):\n",
        "    if i % 3 == 0 and i % 5 == 0:\n",
        "      print(i, \"Fizz-Buzz\")\n",
        "    elif i % 3 == 0:\n",
        "      print(i, \"Fizz\")\n",
        "    elif i % 5 == 0:\n",
        "      print(i, \"Buzz\")\n",
        "    else:\n",
        "      print(i)\n",
        "\n"
      ],
      "metadata": {
        "colab": {
          "base_uri": "https://localhost:8080/"
        },
        "id": "-A0Ye5XjMebB",
        "outputId": "85833ee3-8570-4a82-cc4e-de560773d2a1"
      },
      "execution_count": null,
      "outputs": [
        {
          "output_type": "stream",
          "name": "stdout",
          "text": [
            "1\n",
            "2\n",
            "3 Fizz\n",
            "4\n",
            "5 Buzz\n",
            "6 Fizz\n",
            "7\n",
            "8\n",
            "9 Fizz\n",
            "10 Buzz\n",
            "11\n",
            "12 Fizz\n",
            "13\n",
            "14\n",
            "15 Fizz-Buzz\n",
            "16\n",
            "17\n",
            "18 Fizz\n",
            "19\n",
            "20 Buzz\n",
            "21 Fizz\n",
            "22\n",
            "23\n",
            "24 Fizz\n",
            "25 Buzz\n",
            "26\n",
            "27 Fizz\n",
            "28\n",
            "29\n",
            "30 Fizz-Buzz\n",
            "31\n",
            "32\n",
            "33 Fizz\n",
            "34\n",
            "35 Buzz\n",
            "36 Fizz\n",
            "37\n",
            "38\n",
            "39 Fizz\n",
            "40 Buzz\n",
            "41\n",
            "42 Fizz\n",
            "43\n",
            "44\n",
            "45 Fizz-Buzz\n",
            "46\n",
            "47\n",
            "48 Fizz\n",
            "49\n",
            "50 Buzz\n",
            "51 Fizz\n",
            "52\n",
            "53\n",
            "54 Fizz\n",
            "55 Buzz\n",
            "56\n",
            "57 Fizz\n",
            "58\n",
            "59\n",
            "60 Fizz-Buzz\n",
            "61\n",
            "62\n",
            "63 Fizz\n",
            "64\n",
            "65 Buzz\n",
            "66 Fizz\n",
            "67\n",
            "68\n",
            "69 Fizz\n",
            "70 Buzz\n",
            "71\n",
            "72 Fizz\n",
            "73\n",
            "74\n",
            "75 Fizz-Buzz\n",
            "76\n",
            "77\n",
            "78 Fizz\n",
            "79\n",
            "80 Buzz\n",
            "81 Fizz\n",
            "82\n",
            "83\n",
            "84 Fizz\n",
            "85 Buzz\n",
            "86\n",
            "87 Fizz\n",
            "88\n",
            "89\n",
            "90 Fizz-Buzz\n",
            "91\n",
            "92\n",
            "93 Fizz\n",
            "94\n",
            "95 Buzz\n",
            "96 Fizz\n",
            "97\n",
            "98\n",
            "99 Fizz\n",
            "100 Buzz\n"
          ]
        }
      ]
    },
    {
      "cell_type": "markdown",
      "source": [
        "## **Задача 4.**\n",
        "**Условие.** В данном упражнении вам предстоит разработать программу, в которой у пользователя будет запрошен список слов, пока он не оставит строку ввода пустой. После этого на экране должны быть показаны слова, введенные пользователем, но без повторов, – каждое по одному разу. При этом слова должны быть отображены в том же порядке, в каком их вводили с клавиатуры. Например, если пользователь на запрос программы введет следующий список слов:\n",
        "\n",
        "```\n",
        "first\n",
        "second\n",
        "first\n",
        "third\n",
        "second\n",
        "```\n",
        "программа должна вывести:\n",
        "```\n",
        "first\n",
        "second\n",
        "third\n",
        "```\n",
        "\n",
        "\n",
        "\n"
      ],
      "metadata": {
        "id": "5QJ8Lt9jPq7i"
      }
    },
    {
      "cell_type": "code",
      "source": [
        "  list_1 = []\n",
        "  list_2 = input(\"Введите слово (пустая строка-выход)\")\n",
        "  while list_2 != \"\":\n",
        "    list_1.append(list_2)\n",
        "    list_2 = input(\"Введите слово (пустая строка-выход)\")\n",
        "\n",
        "  print(\"Первоначальная строка\", list_1)\n",
        "  book = {}\n",
        "  for i in list_1:\n",
        "    book[i] = True\n",
        "  print(\"Новая строка\", dict.keys(book))\n"
      ],
      "metadata": {
        "colab": {
          "base_uri": "https://localhost:8080/"
        },
        "id": "m5Lqqe--QuBG",
        "outputId": "cd8b921f-a8ab-44f6-9752-f57f47a0576f"
      },
      "execution_count": null,
      "outputs": [
        {
          "output_type": "stream",
          "name": "stdout",
          "text": [
            "Введите слово (пустая строка-выход)5\n",
            "Введите слово (пустая строка-выход)15\n",
            "Введите слово (пустая строка-выход)2\n",
            "Введите слово (пустая строка-выход)5\n",
            "Введите слово (пустая строка-выход)13\n",
            "Введите слово (пустая строка-выход)\n",
            "Первоначальная строка ['5', '15', '2', '5', '13']\n",
            "Новая строка dict_keys(['5', '15', '2', '13'])\n"
          ]
        }
      ]
    },
    {
      "cell_type": "markdown",
      "source": [
        "## **Задача 5.**\n",
        "**Условие.** Напишите программу, которая будет запрашивать у пользователя числа, пока не будет введена пустая строка. Сначала на экран должно быть выведено среднее значение введенного ряда чисел, после этого друг за другом необходимо вывести список чисел ниже среднего, равных ему (если такие найдутся) и выше среднего. Каждый список должен предваряться соответствующим заголовком."
      ],
      "metadata": {
        "id": "RVgLAmHknBQG"
      }
    },
    {
      "cell_type": "code",
      "source": [
        "  sum = 0\n",
        "  user_list = []\n",
        "  user_min = []\n",
        "  user_max = []\n",
        "  user_eq = []\n",
        "  i = 0\n",
        "  while True:\n",
        "    user_input = int(input(\"Введите число (0-выход)\"))\n",
        "    if user_input == 0:\n",
        "      break\n",
        "    else:\n",
        "      user_list.append(user_input)\n",
        "      sum += user_input\n",
        "  sr = sum / len(user_list)\n",
        "  while i != len(user_list):\n",
        "    if user_list[i] < sr:\n",
        "      user_min.append(user_list[i])\n",
        "    elif user_list[i] > sr:\n",
        "      user_max.append(user_list[i])\n",
        "    else:\n",
        "      user_eq.append(user_list[i])\n",
        "\n",
        "    i = i + 1\n",
        "  print(\"Ваши числа\", user_list, sum, sr)\n",
        "  print(\"числа ниже среднего\", user_min)\n",
        "  print(\"числа выше среднего\", user_max)\n",
        "  print(\"равные среднему\", user_eq)"
      ],
      "metadata": {
        "colab": {
          "base_uri": "https://localhost:8080/"
        },
        "id": "MXK0V7nZnFwi",
        "outputId": "12bbe0dd-d0d3-4a9e-f556-0a09684b4e75"
      },
      "execution_count": null,
      "outputs": [
        {
          "output_type": "stream",
          "name": "stdout",
          "text": [
            "Введите число (0-выход)15\n",
            "Введите число (0-выход)5\n",
            "Введите число (0-выход)10\n",
            "Введите число (0-выход)15\n",
            "Введите число (0-выход)20\n",
            "Введите число (0-выход)0\n",
            "Ваши числа [15, 5, 10, 15, 20] 65 13.0\n",
            "числа ниже среднего [5, 10]\n",
            "числа выше среднего [15, 15, 20]\n",
            "равные среднему []\n"
          ]
        }
      ]
    },
    {
      "cell_type": "markdown",
      "source": [
        "## **Задача 6.**\n",
        "**Условие.** Решето Эратосфена – алгоритм, изобретенный более 2000 лет назад и служащий для нахождения всех простых чисел от 2 до некоторого целого числа n. Ваше решение должно начинаться с предложения пользователю ввести число, до которого необходимо вывести простые числа. Описание этого алгоритма приведено ниже.\n",
        "\n",
        "\n",
        "```\n",
        "Выписываем все целые числа от 0 до заданной границы\n",
        "Вычеркиваем 0 и 1 как непростые числа\n",
        "Устанавливаем значение переменной p, равное 2\n",
        "Пока p меньше указанного числа, делать\n",
        " Вычеркиваем все числа, кратные p, но не его само\n",
        " Устанавливаем значение p, равное следующему невычеркнутому числу\n",
        "Выводим все числа, оставшиеся незачеркнутым\n",
        "\n",
        "```\n",
        "Ценность данного алгоритма заключается в том, что на бумаге очень легко вычеркнуть все числа, кратные определенному. Для компьютера это также не самая сложная задача – с этим может прекрасно справиться инструкция for с третьим параметром, переданным функции range. Мы знаем, что вычеркнутые числа на листочке не являются простыми, но физически они никуда с листа не деваются и должны участвовать в дальнейшем алгоритме. Так что и в компьютерной симуляции не стоит «вычеркивать» элемент путем его удаления из списка – вместо этого лучше будет присвоить ему значение 0. После завершения алгоритма все ненулевые числа в списке и будут простыми. Напишите программу на Python, реализующую указанный выше алгоритм для отображения простых чисел в интервале от двух до значения, введенного пользователем. Если алгоритм будет реализован правильно, ваша программа справится с выводом всех простых чисел от двух до миллиона всего за пару секунд.\n",
        "\n",
        "**Примечание.** Приведенный в данном упражнении алгоритм поиска простых чисел, названный в честь Эратосфена, был далеко не единственным вкладом греческого математика в науку. Ему также приписывают вычисление длины окружности Земли и градус наклона ее оси. Кроме того, с 235 г. до н. э. он служил хранителем знаменитой Александрийской библиотеки."
      ],
      "metadata": {
        "id": "Ua0oZrdMwV9J"
      }
    },
    {
      "cell_type": "code",
      "source": [
        "  user_input = int(input(\"Введите число \"))\n",
        "  numbers = list(range(0, user_input + 1))\n",
        "  print(\"Числа\", numbers)\n",
        "  numbers[1] = 0\n",
        "  p = 2\n",
        "  while p <= user_input:\n",
        "    if numbers[p] != 0:\n",
        "      n = 2 * p\n",
        "      while n <= user_input:\n",
        "        numbers[n] = 0\n",
        "        n = n + p\n",
        "    p +=1\n",
        "  print(\"Решето\", numbers)"
      ],
      "metadata": {
        "id": "UvCv14S0w2S-",
        "colab": {
          "base_uri": "https://localhost:8080/"
        },
        "outputId": "e5e8a0eb-8cba-4741-e539-f3ddbc8af01d"
      },
      "execution_count": null,
      "outputs": [
        {
          "output_type": "stream",
          "name": "stdout",
          "text": [
            "Введите число 15\n",
            "Числа [0, 1, 2, 3, 4, 5, 6, 7, 8, 9, 10, 11, 12, 13, 14, 15]\n",
            "Решето [0, 0, 2, 3, 0, 5, 0, 7, 0, 0, 0, 11, 0, 13, 0, 0]\n"
          ]
        }
      ]
    },
    {
      "cell_type": "markdown",
      "source": [
        "## **Задача 7.**\n",
        "**Условие.** В известной игре Эрудит (Scrabble) каждой букве соответствует определенное количество очков. Общая сумма очков, которую получает игрок, составивший это слово, складывается из очков за каждую букву, входящую в его состав. Чем более употребимой является буква в языке, тем меньше очков начисляется за ее использование. Напишите программу, рассчитывающую и отображающую количество очков за собранное слово. Создайте словарь для хранения соответствий между буквами и очками и используйте его в своем решении. Система очков в игре Эрудит:\n",
        "\n",
        "\n",
        "* 1 - A, E, I, L, N, O, R, S, T и U\n",
        "* 2 - D и G\n",
        "* 3 - B, C, M и P\n",
        "* 4 - F, H, V, W и Y\n",
        "* 5 - K\n",
        "* 8 - J и X\n",
        "* 10 - Q и Z\n",
        "\n"
      ],
      "metadata": {
        "id": "JhZhAWi5yrW1"
      }
    },
    {
      "cell_type": "code",
      "source": [
        "  book_1 = {'A' : 1, 'E' : 1, 'I' : 1, 'L' : 1, 'N' : 1, 'O' : 1, 'R' : 1, 'S' : 1, 'T' : 1,\n",
        "            'U' : 1, 'D' : 2, 'G' : 2, 'B' : 3, 'C' : 3, 'M' : 3, 'P' : 3, 'F' : 4, 'H' : 4,\n",
        "            'V' : 4, 'W' : 4, 'Y' : 4, 'K' : 5, 'J' : 8, 'X' : 8, 'Q' : 10, 'Z' : 4}\n",
        "\n",
        "  user_input = input(\"Введите слово \").upper()\n",
        "  score = 0\n",
        "  for i in user_input:\n",
        "    if i in book_1:\n",
        "      score += book_1[i]\n",
        "  print(\"Всего очков:\", score)"
      ],
      "metadata": {
        "id": "ecfNHj59y5ZK",
        "colab": {
          "base_uri": "https://localhost:8080/"
        },
        "outputId": "7175a03f-c345-4f22-bf16-7ea9c050de98"
      },
      "execution_count": null,
      "outputs": [
        {
          "output_type": "stream",
          "name": "stdout",
          "text": [
            "Введите слово utg\n",
            "Всего очков: 4\n"
          ]
        }
      ]
    }
  ]
}